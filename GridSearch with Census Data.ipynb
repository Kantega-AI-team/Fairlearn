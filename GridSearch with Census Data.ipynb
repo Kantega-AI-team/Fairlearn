{
 "cells": [
  {
   "cell_type": "markdown",
   "metadata": {},
   "source": [
    "# About"
   ]
  },
  {
   "cell_type": "markdown",
   "metadata": {},
   "source": [
    "* Formålet med denne notebooken er å utforske en pakke for å oppdage indirekte diskriminering i modeller, utviklet av Fairlearn (https://fairlearn.org/)\n",
    "\n",
    "* Datasettet som brukes er Census fra OpenML. Dette datasettet brukes vanligvis til å predikere om en inntekt er over eller under 50.000 dollar, men i dette eksempelet vil vi bruke det som en modell for innvilgelse av lån eller ikke.\n",
    "\n",
    "* Fremgangsmåten i grove trekk:\n",
    "    - Trene en vanlig ML-modell\n",
    "    - Vise at modellen diskriminerer\n",
    "    - Lage en mindre diskriminerende modell ved å bruke GridSearch-algoritmen fra Fairlearn-pakken"
   ]
  },
  {
   "cell_type": "markdown",
   "metadata": {},
   "source": [
    "# Setup"
   ]
  },
  {
   "cell_type": "code",
   "execution_count": 1,
   "metadata": {},
   "outputs": [],
   "source": [
    "import pandas as pd\n",
    "import matplotlib.pyplot as plt\n",
    "\n",
    "from sklearn import metrics as skm\n",
    "\n",
    "from sklearn.datasets import fetch_openml\n",
    "from sklearn.model_selection import train_test_split\n",
    "from sklearn.preprocessing import LabelEncoder, StandardScaler\n",
    "from sklearn.ensemble import RandomForestClassifier\n",
    "\n",
    "from fairlearn.reductions import GridSearch, DemographicParity, ErrorRate\n",
    "from fairlearn.metrics import MetricFrame, selection_rate, count"
   ]
  },
  {
   "cell_type": "markdown",
   "metadata": {},
   "source": [
    "# Loading, preprocessing and inspecting data"
   ]
  },
  {
   "cell_type": "code",
   "execution_count": 2,
   "metadata": {},
   "outputs": [],
   "source": [
    "# Loading data\n",
    "census = fetch_openml(data_id=1590, as_frame=True)"
   ]
  },
  {
   "cell_type": "code",
   "execution_count": 3,
   "metadata": {},
   "outputs": [],
   "source": [
    "df = census.data"
   ]
  },
  {
   "cell_type": "code",
   "execution_count": 4,
   "metadata": {},
   "outputs": [],
   "source": [
    "# Recoding target to binary outcome and merge everything into a single df\n",
    "df['target'] = (census.target == '>50K') * 1"
   ]
  },
  {
   "cell_type": "code",
   "execution_count": 5,
   "metadata": {},
   "outputs": [
    {
     "data": {
      "text/html": [
       "<div>\n",
       "<style scoped>\n",
       "    .dataframe tbody tr th:only-of-type {\n",
       "        vertical-align: middle;\n",
       "    }\n",
       "\n",
       "    .dataframe tbody tr th {\n",
       "        vertical-align: top;\n",
       "    }\n",
       "\n",
       "    .dataframe thead th {\n",
       "        text-align: right;\n",
       "    }\n",
       "</style>\n",
       "<table border=\"1\" class=\"dataframe\">\n",
       "  <thead>\n",
       "    <tr style=\"text-align: right;\">\n",
       "      <th></th>\n",
       "      <th>age</th>\n",
       "      <th>workclass</th>\n",
       "      <th>fnlwgt</th>\n",
       "      <th>education</th>\n",
       "      <th>education-num</th>\n",
       "      <th>marital-status</th>\n",
       "      <th>occupation</th>\n",
       "      <th>relationship</th>\n",
       "      <th>race</th>\n",
       "      <th>sex</th>\n",
       "      <th>capital-gain</th>\n",
       "      <th>capital-loss</th>\n",
       "      <th>hours-per-week</th>\n",
       "      <th>native-country</th>\n",
       "      <th>target</th>\n",
       "    </tr>\n",
       "  </thead>\n",
       "  <tbody>\n",
       "    <tr>\n",
       "      <th>0</th>\n",
       "      <td>25.0</td>\n",
       "      <td>Private</td>\n",
       "      <td>226802.0</td>\n",
       "      <td>11th</td>\n",
       "      <td>7.0</td>\n",
       "      <td>Never-married</td>\n",
       "      <td>Machine-op-inspct</td>\n",
       "      <td>Own-child</td>\n",
       "      <td>Black</td>\n",
       "      <td>Male</td>\n",
       "      <td>0.0</td>\n",
       "      <td>0.0</td>\n",
       "      <td>40.0</td>\n",
       "      <td>United-States</td>\n",
       "      <td>0</td>\n",
       "    </tr>\n",
       "    <tr>\n",
       "      <th>1</th>\n",
       "      <td>38.0</td>\n",
       "      <td>Private</td>\n",
       "      <td>89814.0</td>\n",
       "      <td>HS-grad</td>\n",
       "      <td>9.0</td>\n",
       "      <td>Married-civ-spouse</td>\n",
       "      <td>Farming-fishing</td>\n",
       "      <td>Husband</td>\n",
       "      <td>White</td>\n",
       "      <td>Male</td>\n",
       "      <td>0.0</td>\n",
       "      <td>0.0</td>\n",
       "      <td>50.0</td>\n",
       "      <td>United-States</td>\n",
       "      <td>0</td>\n",
       "    </tr>\n",
       "    <tr>\n",
       "      <th>2</th>\n",
       "      <td>28.0</td>\n",
       "      <td>Local-gov</td>\n",
       "      <td>336951.0</td>\n",
       "      <td>Assoc-acdm</td>\n",
       "      <td>12.0</td>\n",
       "      <td>Married-civ-spouse</td>\n",
       "      <td>Protective-serv</td>\n",
       "      <td>Husband</td>\n",
       "      <td>White</td>\n",
       "      <td>Male</td>\n",
       "      <td>0.0</td>\n",
       "      <td>0.0</td>\n",
       "      <td>40.0</td>\n",
       "      <td>United-States</td>\n",
       "      <td>1</td>\n",
       "    </tr>\n",
       "    <tr>\n",
       "      <th>3</th>\n",
       "      <td>44.0</td>\n",
       "      <td>Private</td>\n",
       "      <td>160323.0</td>\n",
       "      <td>Some-college</td>\n",
       "      <td>10.0</td>\n",
       "      <td>Married-civ-spouse</td>\n",
       "      <td>Machine-op-inspct</td>\n",
       "      <td>Husband</td>\n",
       "      <td>Black</td>\n",
       "      <td>Male</td>\n",
       "      <td>7688.0</td>\n",
       "      <td>0.0</td>\n",
       "      <td>40.0</td>\n",
       "      <td>United-States</td>\n",
       "      <td>1</td>\n",
       "    </tr>\n",
       "    <tr>\n",
       "      <th>4</th>\n",
       "      <td>18.0</td>\n",
       "      <td>NaN</td>\n",
       "      <td>103497.0</td>\n",
       "      <td>Some-college</td>\n",
       "      <td>10.0</td>\n",
       "      <td>Never-married</td>\n",
       "      <td>NaN</td>\n",
       "      <td>Own-child</td>\n",
       "      <td>White</td>\n",
       "      <td>Female</td>\n",
       "      <td>0.0</td>\n",
       "      <td>0.0</td>\n",
       "      <td>30.0</td>\n",
       "      <td>United-States</td>\n",
       "      <td>0</td>\n",
       "    </tr>\n",
       "  </tbody>\n",
       "</table>\n",
       "</div>"
      ],
      "text/plain": [
       "    age  workclass    fnlwgt     education  education-num      marital-status  \\\n",
       "0  25.0    Private  226802.0          11th            7.0       Never-married   \n",
       "1  38.0    Private   89814.0       HS-grad            9.0  Married-civ-spouse   \n",
       "2  28.0  Local-gov  336951.0    Assoc-acdm           12.0  Married-civ-spouse   \n",
       "3  44.0    Private  160323.0  Some-college           10.0  Married-civ-spouse   \n",
       "4  18.0        NaN  103497.0  Some-college           10.0       Never-married   \n",
       "\n",
       "          occupation relationship   race     sex  capital-gain  capital-loss  \\\n",
       "0  Machine-op-inspct    Own-child  Black    Male           0.0           0.0   \n",
       "1    Farming-fishing      Husband  White    Male           0.0           0.0   \n",
       "2    Protective-serv      Husband  White    Male           0.0           0.0   \n",
       "3  Machine-op-inspct      Husband  Black    Male        7688.0           0.0   \n",
       "4                NaN    Own-child  White  Female           0.0           0.0   \n",
       "\n",
       "   hours-per-week native-country  target  \n",
       "0            40.0  United-States       0  \n",
       "1            50.0  United-States       0  \n",
       "2            40.0  United-States       1  \n",
       "3            40.0  United-States       1  \n",
       "4            30.0  United-States       0  "
      ]
     },
     "execution_count": 5,
     "metadata": {},
     "output_type": "execute_result"
    }
   ],
   "source": [
    "df.head()"
   ]
  },
  {
   "cell_type": "markdown",
   "metadata": {},
   "source": [
    "I datasettet finnes det tre variabler som åpenbart ikke bør være med i en prediksjonsmodell som skal fungere som beslutningsstøtte for innvilgelse av lån (race, sex, native-country). Disse droppes fra modellen, men vi velger å beholde kjønn som kontrollvariabel for diskriminering. Ideelt sett burde alle vært med, men dette krever mye regnekraft og gjør at notebooken tar lang tid å kjøre. "
   ]
  },
  {
   "cell_type": "code",
   "execution_count": 6,
   "metadata": {},
   "outputs": [],
   "source": [
    "A = df['sex']\n",
    "y = df['target']\n",
    "X = df.drop(labels=['sex', 'race', 'native-country', 'target'], axis = 1)"
   ]
  },
  {
   "cell_type": "code",
   "execution_count": 7,
   "metadata": {},
   "outputs": [],
   "source": [
    "X = pd.get_dummies(X)\n",
    "sc = StandardScaler()\n",
    "X_scaled = sc.fit_transform(X)\n",
    "X_scaled = pd.DataFrame(X_scaled, columns=X.columns)"
   ]
  },
  {
   "cell_type": "code",
   "execution_count": 8,
   "metadata": {},
   "outputs": [],
   "source": [
    "# Splitting in test and training set\n",
    "X_train, X_test, y_train, y_test, A_train, A_test = train_test_split(X_scaled,\n",
    "                                                                     y,\n",
    "                                                                     A,\n",
    "                                                                     test_size=0.2,\n",
    "                                                                     random_state=1234,\n",
    "                                                                     stratify=y)"
   ]
  },
  {
   "cell_type": "markdown",
   "metadata": {},
   "source": [
    "# Training a fairness-unaware predictor"
   ]
  },
  {
   "cell_type": "code",
   "execution_count": 9,
   "metadata": {},
   "outputs": [
    {
     "data": {
      "text/plain": [
       "RandomForestClassifier(random_state=1234)"
      ]
     },
     "execution_count": 9,
     "metadata": {},
     "output_type": "execute_result"
    }
   ],
   "source": [
    "unmitigated_model = RandomForestClassifier(random_state = 1234)\n",
    "unmitigated_model.fit(X_train, y_train)"
   ]
  },
  {
   "cell_type": "code",
   "execution_count": 10,
   "metadata": {},
   "outputs": [],
   "source": [
    "# Checking model fairness using Fairlearn MetricFrame\n",
    "metric_frame = MetricFrame(metrics={\"accuracy\": skm.accuracy_score,\n",
    "                                    \"selection_rate\": selection_rate,\n",
    "                                    \"count\": count},\n",
    "                           sensitive_features=A_test,\n",
    "                           y_true=y_test,\n",
    "                           y_pred=unmitigated_model.predict(X_test))"
   ]
  },
  {
   "cell_type": "code",
   "execution_count": 11,
   "metadata": {
    "scrolled": true
   },
   "outputs": [
    {
     "name": "stdout",
     "output_type": "stream",
     "text": [
      "accuracy          0.850957\n",
      "selection_rate    0.208414\n",
      "count                 9769\n",
      "dtype: object\n"
     ]
    },
    {
     "data": {
      "text/plain": [
       "<sklearn.metrics._plot.confusion_matrix.ConfusionMatrixDisplay at 0x7fb34098a4c0>"
      ]
     },
     "execution_count": 11,
     "metadata": {},
     "output_type": "execute_result"
    },
    {
     "data": {
      "image/png": "[encoded data removed]",
      "text/plain": [
       "<Figure size 432x288 with 2 Axes>"
      ]
     },
     "metadata": {
      "needs_background": "light"
     },
     "output_type": "display_data"
    }
   ],
   "source": [
    "print(metric_frame.overall)\n",
    "skm.plot_confusion_matrix(unmitigated_model, X_test,y_test)"
   ]
  },
  {
   "cell_type": "code",
   "execution_count": 12,
   "metadata": {},
   "outputs": [
    {
     "name": "stdout",
     "output_type": "stream",
     "text": [
      "        accuracy selection_rate count\n",
      "sex                                  \n",
      "Female  0.919325        0.08773  3260\n",
      "Male    0.816715       0.268859  6509\n"
     ]
    },
    {
     "data": {
      "text/plain": [
       "array([[<AxesSubplot:title={'center':'accuracy'}, xlabel='sex'>],\n",
       "       [<AxesSubplot:title={'center':'selection_rate'}, xlabel='sex'>],\n",
       "       [<AxesSubplot:title={'center':'count'}, xlabel='sex'>]],\n",
       "      dtype=object)"
      ]
     },
     "execution_count": 12,
     "metadata": {},
     "output_type": "execute_result"
    },
    {
     "data": {
      "image/png": "[encoded data removed]",
      "text/plain": [
       "<Figure size 864x576 with 3 Axes>"
      ]
     },
     "metadata": {
      "needs_background": "light"
     },
     "output_type": "display_data"
    }
   ],
   "source": [
    "print(metric_frame.by_group)\n",
    "metric_frame.by_group.plot.bar(\n",
    "        subplots=True, layout=[3, 1], legend=False, figsize=[12, 8],\n",
    "        title='Accuracy and selection rate by group')"
   ]
  },
  {
   "cell_type": "markdown",
   "metadata": {},
   "source": [
    "Ser man på den demografiske forskjellen i accuracy, ser vi at menn har en større feilrate enn kvinner. Det som er mer interessant er forskjellen i muligheten for å få lån (selection rate). Her ser vi at hvis du er mann har du 3 ganger så høy mulighet for å få innvilget et lån, sammenlignet med hvis du er kvinne. \n",
    "\n",
    "Ut fra dette kan vi konkludere med at selv om vi ikke har med kjønn i våres modell, vil datasettet indirekte diskriminere kvinner."
   ]
  },
  {
   "cell_type": "markdown",
   "metadata": {},
   "source": [
    "# Mitigation with GridSearch"
   ]
  },
  {
   "cell_type": "markdown",
   "metadata": {},
   "source": [
    "For å lage en modell som er mindre diskriminerende, spesifiserer vi at vi ønsker å bruke demografisk likhet som en rettferdighets-metrikk. Dette betyr at ved en perfekt modell vil alle individer ha lik mulighet til å få innvilget et lån, uavhengig av hvilket kjønn du er. \n",
    "\n",
    "GridSearch-algoritmen fungerer på samme måte som andre ML-pakker i Python hvor du har fit() og predict(). I tillegg må det spesifiseres to ekstra argumenter. Hvor mange modeller man ønsker å generere (grid_size) og hvilke variabel som er den du ønsker å måle diskriminering opp mot (sensitive_features)"
   ]
  },
  {
   "cell_type": "code",
   "execution_count": 13,
   "metadata": {},
   "outputs": [],
   "source": [
    "sweep = GridSearch(RandomForestClassifier(random_state = 1234),\n",
    "                  constraints = DemographicParity(),\n",
    "                  grid_size = 35)"
   ]
  },
  {
   "cell_type": "code",
   "execution_count": 14,
   "metadata": {},
   "outputs": [],
   "source": [
    "sweep.fit(X_train, y_train,\n",
    "         sensitive_features = A_train)\n",
    "\n",
    "predictors = sweep.predictors_"
   ]
  },
  {
   "cell_type": "markdown",
   "metadata": {},
   "source": [
    "For å gjøre resultatene mer oversiktlige fjerner vi de dårligste modellene."
   ]
  },
  {
   "cell_type": "code",
   "execution_count": 15,
   "metadata": {},
   "outputs": [],
   "source": [
    "errors, disparities = [], []\n",
    "for m in predictors:\n",
    "    def classifier(X): return m.predict(X)\n",
    "\n",
    "    error = ErrorRate()\n",
    "    error.load_data(X_train, pd.Series(y_train), sensitive_features=A_train)\n",
    "    disparity = DemographicParity()\n",
    "    disparity.load_data(X_train, pd.Series(y_train), sensitive_features=A_train)\n",
    "\n",
    "    errors.append(error.gamma(classifier)[0])\n",
    "    disparities.append(disparity.gamma(classifier).max())\n",
    "\n",
    "all_results = pd.DataFrame({\"predictor\": predictors, \"error\": errors, \"disparity\": disparities})\n",
    "\n",
    "non_dominated = []\n",
    "for row in all_results.itertuples():\n",
    "    errors_for_lower_or_eq_disparity = all_results[\"error\"][all_results[\"disparity\"] <= row.disparity]\n",
    "    if row.error <= errors_for_lower_or_eq_disparity.min():\n",
    "        non_dominated.append(row.predictor)"
   ]
  },
  {
   "cell_type": "markdown",
   "metadata": {},
   "source": [
    "Sammenligner de beste modellene fra GridSearch med den opprinnelige modellen"
   ]
  },
  {
   "cell_type": "code",
   "execution_count": 16,
   "metadata": {
    "scrolled": true
   },
   "outputs": [
    {
     "data": {
      "text/plain": [
       "Text(0, 0.5, 'selection rate difference')"
      ]
     },
     "execution_count": 16,
     "metadata": {},
     "output_type": "execute_result"
    },
    {
     "data": {
      "image/png": "[encoded data removed]",
      "text/plain": [
       "<Figure size 432x288 with 1 Axes>"
      ]
     },
     "metadata": {
      "needs_background": "light"
     },
     "output_type": "display_data"
    }
   ],
   "source": [
    "predictions = {\"unmitigated\": unmitigated_model.predict(X_test)}\n",
    "metric_frames = {\"unmitigated\": metric_frame}\n",
    "for i in range(len(non_dominated)):\n",
    "    key = \"dm_{0}\".format(i)\n",
    "    predictions[key] = non_dominated[i].predict(X_test)\n",
    "\n",
    "    metric_frames[key] = MetricFrame(metrics={\"accuracy\": skm.accuracy_score,\n",
    "                                              \"selection_rate\": selection_rate,\n",
    "                                              \"count\": count},\n",
    "                                     sensitive_features=A_test,\n",
    "                                     y_true=y_test,\n",
    "                                     y_pred=predictions[key])\n",
    "\n",
    "x = [metric_frame.overall['accuracy'] for metric_frame in metric_frames.values()]\n",
    "y = [metric_frame.difference()['selection_rate'] for metric_frame in metric_frames.values()]\n",
    "keys = list(metric_frames.keys())\n",
    "plt.scatter(x, y)\n",
    "for i in range(len(x)):\n",
    "    plt.annotate(keys[i], (x[i], y[i]))\n",
    "plt.xlabel(\"accuracy\")\n",
    "plt.ylabel(\"selection rate difference\")"
   ]
  },
  {
   "cell_type": "markdown",
   "metadata": {},
   "source": [
    "Ser vi på resultatene fra de ulike modellene er det 3 modeller som peker seg ut som bedre når det kommer til accuracy og selection rate difference, sammenlignet med den opprinnelige modellen (dm_6, dm_7 og dm_8). Merk at det er ekstremt små forskjeller, så endringene i resultatene vil ikke være store."
   ]
  },
  {
   "cell_type": "markdown",
   "metadata": {},
   "source": [
    "# Taking a closer look at a model"
   ]
  },
  {
   "cell_type": "markdown",
   "metadata": {},
   "source": [
    "### Best accuracy and lowest selection rate difference"
   ]
  },
  {
   "cell_type": "code",
   "execution_count": 17,
   "metadata": {},
   "outputs": [],
   "source": [
    "metric_frame_dm = MetricFrame(metrics={\"accuracy\": skm.accuracy_score,\n",
    "                                        \"selection_rate\": selection_rate,\n",
    "                                        \"count\": count},\n",
    "                               sensitive_features=A_test,\n",
    "                               y_true=y_test,\n",
    "                               y_pred=predictions['dm_8'])"
   ]
  },
  {
   "cell_type": "code",
   "execution_count": 18,
   "metadata": {
    "scrolled": true
   },
   "outputs": [
    {
     "name": "stdout",
     "output_type": "stream",
     "text": [
      "accuracy          0.853516\n",
      "selection_rate    0.202784\n",
      "count                 9769\n",
      "dtype: object\n"
     ]
    },
    {
     "data": {
      "text/plain": [
       "<sklearn.metrics._plot.confusion_matrix.ConfusionMatrixDisplay at 0x7fb249d83f70>"
      ]
     },
     "execution_count": 18,
     "metadata": {},
     "output_type": "execute_result"
    },
    {
     "data": {
      "image/png": "[encoded data removed]",
      "text/plain": [
       "<Figure size 432x288 with 2 Axes>"
      ]
     },
     "metadata": {
      "needs_background": "light"
     },
     "output_type": "display_data"
    }
   ],
   "source": [
    "print(metric_frame_dm.overall)\n",
    "skm.plot_confusion_matrix(non_dominated[8], X_test,y_test)"
   ]
  },
  {
   "cell_type": "code",
   "execution_count": 19,
   "metadata": {
    "scrolled": true
   },
   "outputs": [
    {
     "name": "stdout",
     "output_type": "stream",
     "text": [
      "        accuracy selection_rate count\n",
      "sex                                  \n",
      "Female  0.922393       0.087117  3260\n",
      "Male     0.81902       0.260716  6509\n"
     ]
    },
    {
     "data": {
      "text/plain": [
       "array([[<AxesSubplot:title={'center':'accuracy'}, xlabel='sex'>],\n",
       "       [<AxesSubplot:title={'center':'selection_rate'}, xlabel='sex'>],\n",
       "       [<AxesSubplot:title={'center':'count'}, xlabel='sex'>]],\n",
       "      dtype=object)"
      ]
     },
     "execution_count": 19,
     "metadata": {},
     "output_type": "execute_result"
    },
    {
     "data": {
      "image/png": "[encoded data removed]",
      "text/plain": [
       "<Figure size 864x576 with 3 Axes>"
      ]
     },
     "metadata": {
      "needs_background": "light"
     },
     "output_type": "display_data"
    }
   ],
   "source": [
    "print(metric_frame_dm.by_group)\n",
    "metric_frame_dm.by_group.plot.bar(\n",
    "        subplots=True, layout=[3, 1], legend=False, figsize=[12, 8],\n",
    "        title='Accuracy and selection rate by group')"
   ]
  },
  {
   "cell_type": "markdown",
   "metadata": {},
   "source": [
    "Vi har i denne notebooken vist at det er mulig å oppdage indirekte diskriminering i en modell og gjøre modellen mindre diskriminerende, selv om det i dette eksempelet kun var en minimal forbedring.\n",
    "\n",
    "Betyr dette at man alltid må rette for diskriminering? Hvis kostnaden for å ha en falsk positiv er høy enten i kroner eller omdømme vil jeg si nei. Om man skal rette og evt hvor mye dette skal gå på bekostning av treffsikkerheten til modellen er avhengig av hva modellen skal gjøre vil være en filosofisk og forretningsmessig diskusjon. Ofte vil det holde å undersøke om det finnes diskriminering, notere seg dette og forklare det med at modellen diskriminerer indirekte, men dette er pga mønster i data. "
   ]
  }
 ],
 "metadata": {
  "kernelspec": {
   "display_name": "Python 3",
   "language": "python",
   "name": "python3"
  },
  "language_info": {
   "codemirror_mode": {
    "name": "ipython",
    "version": 3
   },
   "file_extension": ".py",
   "mimetype": "text/x-python",
   "name": "python",
   "nbconvert_exporter": "python",
   "pygments_lexer": "ipython3",
   "version": "3.8.5"
  }
 },
 "nbformat": 4,
 "nbformat_minor": 4
}
